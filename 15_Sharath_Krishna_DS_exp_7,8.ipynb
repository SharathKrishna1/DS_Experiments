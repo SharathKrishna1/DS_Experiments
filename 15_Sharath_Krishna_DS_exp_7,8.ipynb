{
  "nbformat": 4,
  "nbformat_minor": 0,
  "metadata": {
    "colab": {
      "provenance": []
    },
    "kernelspec": {
      "name": "python3",
      "display_name": "Python 3"
    },
    "language_info": {
      "name": "python"
    }
  },
  "cells": [
    {
      "cell_type": "markdown",
      "source": [
        "#DS Exp 7,8\n",
        "apply filter feature selection techniques using dataset obtained from dataset in UCI ML"
      ],
      "metadata": {
        "id": "3k1U6RkBXm7J"
      }
    },
    {
      "cell_type": "code",
      "execution_count": 16,
      "metadata": {
        "id": "G9Wr5rWcWenT"
      },
      "outputs": [],
      "source": [
        "# Initial imports and data loading\n",
        "import numpy as np\n",
        "import pandas as pd\n",
        "import matplotlib.pyplot as plt\n",
        "\n",
        "df = pd.read_csv(\"grapes_new.csv\")\n",
        "\n",
        "# Assuming 'df' contains the features and labels, we separate the features and target\n",
        "X = df.drop('CLASS', axis=1)\n",
        "y = df['CLASS']"
      ]
    },
    {
      "cell_type": "markdown",
      "source": [
        "Data preprocessing and handling missing values"
      ],
      "metadata": {
        "id": "mwKD-oI6irN2"
      }
    },
    {
      "cell_type": "code",
      "source": [
        "X_train_balanced = X.dropna()\n",
        "y_train_balanced = y[X_train_balanced.index]"
      ],
      "metadata": {
        "id": "I1RLs1EmhTGe"
      },
      "execution_count": 17,
      "outputs": []
    },
    {
      "cell_type": "markdown",
      "source": [
        "Mutual information based feature selection"
      ],
      "metadata": {
        "id": "6NchnxejieDP"
      }
    },
    {
      "cell_type": "code",
      "source": [
        "from sklearn.feature_selection import mutual_info_classif\n",
        "\n",
        "# Ensuring X_train_balanced has only numeric data\n",
        "X_train_balanced = pd.get_dummies(X_train_balanced, drop_first=True)\n",
        "\n",
        "# Ensuring y_train_balanced is numeric (if it is categorical)\n",
        "if y_train_balanced.dtype == 'object':\n",
        "    y_train_balanced = y_train_balanced.astype('category').cat.codes\n",
        "\n",
        "# Compute Mutual Information between features and labels\n",
        "mi_scores = mutual_info_classif(X_train_balanced, y_train_balanced)\n",
        "mi_df = pd.DataFrame({'Feature': X_train_balanced.columns, 'Mutual_Info_Score': mi_scores})\n",
        "\n",
        "# Setting a threshold to select important features\n",
        "mi_threshold = 0.01\n",
        "selected_mi_features = mi_df[mi_df['Mutual_Info_Score'] > mi_threshold]\n",
        "\n",
        "# Count and display the selected features\n",
        "n_selected_mi_features = len(selected_mi_features)\n",
        "print(f\"Total features selected: {n_selected_mi_features}\")\n",
        "print(f\"Features chosen:\\n{selected_mi_features}\")\n"
      ],
      "metadata": {
        "colab": {
          "base_uri": "https://localhost:8080/"
        },
        "id": "WDme30SRhiE1",
        "outputId": "9a5fe717-8450-4144-81cd-440a5af393ce"
      },
      "execution_count": 21,
      "outputs": [
        {
          "output_type": "stream",
          "name": "stdout",
          "text": [
            "Total features selected: 17\n",
            "Features chosen:\n",
            "              Feature  Mutual_Info_Score\n",
            "0     COLOR_INTENSITY           0.439667\n",
            "1        RIPENESS_PER           0.698114\n",
            "2         ALCOHOL_PER           0.364263\n",
            "3      MALIC_ACID_PER           0.215712\n",
            "5   ALCALINITY_OF_ASH           0.232628\n",
            "6   MAGNESIUM_MEASURE           0.167803\n",
            "7       TOTAL_PHENOLS           0.256008\n",
            "8          FLAVANOIDS           0.502041\n",
            "9     PROANTHOCYANINS           0.179042\n",
            "10                HUE           0.286395\n",
            "11            PROLINE           0.407579\n",
            "12        TEMPERATURE           0.863644\n",
            "13       AVG_HUMIDITY           0.249677\n",
            "14     FERT_NITRO_PER           0.805711\n",
            "15       WATER_O2_PER           0.813405\n",
            "16           WATER_PH           0.545935\n",
            "17       FER_P2O5_PER           0.258683\n"
          ]
        }
      ]
    },
    {
      "cell_type": "markdown",
      "source": [
        "Chi Square"
      ],
      "metadata": {
        "id": "fZEvJnovjCVC"
      }
    },
    {
      "cell_type": "code",
      "source": [
        "from sklearn.feature_selection import chi2\n",
        "\n",
        "chi2_scores, chi2_pvals = chi2(X_train_balanced, y_train_balanced)\n",
        "chi2_df = pd.DataFrame({'Feature': X_train_balanced.columns, 'Chi2_Score': chi2_scores, 'P-Value': chi2_pvals})\n",
        "\n",
        "chi2_threshold = 10\n",
        "p_value_limit = 0.05\n",
        "\n",
        "selected_chi2_features = chi2_df[(chi2_df['Chi2_Score'] > chi2_threshold) & (chi2_df['P-Value'] < p_value_limit)]\n",
        "\n",
        "n_selected_chi2_features = len(selected_chi2_features)\n",
        "print(f\"Features chosen via Chi-Square and p-value filtering: {n_selected_chi2_features}\")\n",
        "print(f\"Selected features:\\n{selected_chi2_features}\")\n"
      ],
      "metadata": {
        "colab": {
          "base_uri": "https://localhost:8080/"
        },
        "id": "xgRWvfBRi-SL",
        "outputId": "bcbe5306-9f81-4cb7-871e-f0c87c819c24"
      },
      "execution_count": 22,
      "outputs": [
        {
          "output_type": "stream",
          "name": "stdout",
          "text": [
            "Features chosen via Chi-Square and p-value filtering: 11\n",
            "Selected features:\n",
            "              Feature    Chi2_Score       P-Value\n",
            "0     COLOR_INTENSITY    148.100611  6.924060e-33\n",
            "1        RIPENESS_PER     28.974040  5.109368e-07\n",
            "3      MALIC_ACID_PER     20.083382  4.354608e-05\n",
            "5   ALCALINITY_OF_ASH     28.475270  6.556523e-07\n",
            "6   MAGNESIUM_MEASURE     36.703588  1.071315e-08\n",
            "7       TOTAL_PHENOLS     12.413487  2.015792e-03\n",
            "8          FLAVANOIDS     50.201153  1.255909e-11\n",
            "11            PROLINE  13021.687652  0.000000e+00\n",
            "12        TEMPERATURE     52.146437  4.748376e-12\n",
            "15       WATER_O2_PER     46.198502  9.292290e-11\n",
            "17       FER_P2O5_PER    126.341988  3.674396e-28\n"
          ]
        }
      ]
    },
    {
      "cell_type": "markdown",
      "source": [
        "Pearson coefficient"
      ],
      "metadata": {
        "id": "6IIV1gERjaFF"
      }
    },
    {
      "cell_type": "code",
      "source": [
        "# Step 1: Calculate Pearson correlation of each feature with the target\n",
        "correlation_vals = X_train_balanced.corrwith(y_train_balanced)\n",
        "\n",
        "# Step 2: Create a DataFrame to map feature names to their correlation values\n",
        "corr_df = pd.DataFrame({'Feature': X_train_balanced.columns, 'Pearson_Correlation': correlation_vals})\n",
        "\n",
        "# Step 3: Set a minimum correlation threshold\n",
        "correlation_cutoff = 0.1\n",
        "\n",
        "# Step 4: Retain only features whose absolute correlation exceeds the threshold\n",
        "selected_corr_features = corr_df[abs(corr_df['Pearson_Correlation']) > correlation_cutoff]\n",
        "\n",
        "# Step 5: Sort the selected features by their absolute correlation values\n",
        "selected_corr_features_sorted = selected_corr_features.sort_values(by='Pearson_Correlation', ascending=False)\n",
        "\n",
        "# Step 6: Display the final selected features and their Pearson correlation values\n",
        "n_selected_corr_features = len(selected_corr_features_sorted)\n",
        "print(f\"Total features chosen based on Pearson correlation: {n_selected_corr_features}\")\n",
        "print(f\"Features selected:\\n{selected_corr_features_sorted}\")"
      ],
      "metadata": {
        "colab": {
          "base_uri": "https://localhost:8080/"
        },
        "id": "PYeLo5Ari_Le",
        "outputId": "ee7abd5b-a1fd-4807-8703-88d78ae53feb"
      },
      "execution_count": 23,
      "outputs": [
        {
          "output_type": "stream",
          "name": "stdout",
          "text": [
            "Total features chosen based on Pearson correlation: 18\n",
            "Features selected:\n",
            "                             Feature  Pearson_Correlation\n",
            "FER_P2O5_PER            FER_P2O5_PER             0.468916\n",
            "RIPENESS_PER            RIPENESS_PER             0.454740\n",
            "TEMPERATURE              TEMPERATURE             0.426633\n",
            "ALCALINITY_OF_ASH  ALCALINITY_OF_ASH             0.335672\n",
            "AVG_HUMIDITY            AVG_HUMIDITY             0.133431\n",
            "HUE                              HUE             0.114155\n",
            "MALIC_ACID_PER        MALIC_ACID_PER            -0.132241\n",
            "PROANTHOCYANINS      PROANTHOCYANINS            -0.147289\n",
            "SOIL_TYPE_archean  SOIL_TYPE_archean            -0.158108\n",
            "FLAVANOIDS                FLAVANOIDS            -0.282259\n",
            "TOTAL_PHENOLS          TOTAL_PHENOLS            -0.313190\n",
            "MAGNESIUM_MEASURE  MAGNESIUM_MEASURE            -0.313197\n",
            "ASH                              ASH            -0.328715\n",
            "FERT_NITRO_PER        FERT_NITRO_PER            -0.348544\n",
            "WATER_O2_PER            WATER_O2_PER            -0.445966\n",
            "COLOR_INTENSITY      COLOR_INTENSITY            -0.469559\n",
            "ALCOHOL_PER              ALCOHOL_PER            -0.714331\n",
            "PROLINE                      PROLINE            -0.717809\n"
          ]
        }
      ]
    }
  ]
}