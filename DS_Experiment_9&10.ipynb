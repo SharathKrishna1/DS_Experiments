{
  "nbformat": 4,
  "nbformat_minor": 0,
  "metadata": {
    "colab": {
      "provenance": []
    },
    "kernelspec": {
      "name": "python3",
      "display_name": "Python 3"
    },
    "language_info": {
      "name": "python"
    }
  },
  "cells": [
    {
      "cell_type": "markdown",
      "source": [
        "Forward Elimination"
      ],
      "metadata": {
        "id": "OliCVD9WrsjG"
      }
    },
    {
      "cell_type": "code",
      "execution_count": 1,
      "metadata": {
        "colab": {
          "base_uri": "https://localhost:8080/"
        },
        "id": "Py6db1EIq0va",
        "outputId": "44d40cc9-ec7e-4c58-a0d6-b040ee34fab1"
      },
      "outputs": [
        {
          "output_type": "stream",
          "name": "stdout",
          "text": [
            "Selected features: [2, 3, 0, 1]\n",
            "Model accuracy with selected features: 0.9777777777777777\n"
          ]
        }
      ],
      "source": [
        "from sklearn.datasets import load_iris\n",
        "from sklearn.model_selection import train_test_split\n",
        "from sklearn.naive_bayes import GaussianNB\n",
        "from sklearn.metrics import accuracy_score\n",
        "\n",
        "# Load the Iris dataset\n",
        "data = load_iris()\n",
        "X, y = data.data, data.target\n",
        "\n",
        "def forward_selection(X, y):\n",
        "    selected_features = []\n",
        "    remaining_features = list(range(X.shape[1]))\n",
        "    model = GaussianNB()  # Initialize the Naive Bayes model\n",
        "\n",
        "    # Loop until all features are evaluated\n",
        "    while remaining_features:\n",
        "        best_acc = 0\n",
        "        best_feature = None\n",
        "\n",
        "        # Try adding each remaining feature and evaluate performance\n",
        "        for feature in remaining_features:\n",
        "            X_selected = X[:, selected_features + [feature]]\n",
        "            X_train, X_test, y_train, y_test = train_test_split(X_selected, y, test_size=0.3, random_state=42)\n",
        "            model.fit(X_train, y_train)\n",
        "            y_pred = model.predict(X_test)\n",
        "            acc = accuracy_score(y_test, y_pred)\n",
        "\n",
        "            # Track the best feature that improves accuracy\n",
        "            if acc > best_acc:\n",
        "                best_acc = acc\n",
        "                best_feature = feature\n",
        "\n",
        "        # If a feature improves accuracy, add it to the selected features\n",
        "        if best_feature is not None:\n",
        "            selected_features.append(best_feature)\n",
        "            remaining_features.remove(best_feature)\n",
        "\n",
        "    return selected_features\n",
        "\n",
        "# Perform Forward Selection\n",
        "selected_features = forward_selection(X, y)\n",
        "print(\"Selected features:\", selected_features)\n",
        "\n",
        "# Evaluate the model with selected features\n",
        "X_selected = X[:, selected_features]\n",
        "X_train, X_test, y_train, y_test = train_test_split(X_selected, y, test_size=0.3, random_state=42)\n",
        "model = GaussianNB()  # Reinitialize the model\n",
        "model.fit(X_train, y_train)\n",
        "y_pred = model.predict(X_test)\n",
        "print(\"Model accuracy with selected features:\", accuracy_score(y_test, y_pred))\n"
      ]
    },
    {
      "cell_type": "markdown",
      "source": [
        "Backward Elimination"
      ],
      "metadata": {
        "id": "e42q2cVqr6i7"
      }
    },
    {
      "cell_type": "code",
      "source": [
        "from sklearn.model_selection import train_test_split\n",
        "from sklearn.naive_bayes import GaussianNB\n",
        "from sklearn.metrics import accuracy_score\n",
        "\n",
        "# Initialize the Naive Bayes model\n",
        "model = GaussianNB()\n",
        "\n",
        "def backward_elimination(X, y, model):\n",
        "    selected_features = list(range(X.shape[1]))  # All features initially\n",
        "\n",
        "    # Loop until all features are evaluated\n",
        "    while len(selected_features) > 1:\n",
        "        best_acc = 0\n",
        "        worst_feature = None\n",
        "\n",
        "        # Try removing each feature and evaluate performance\n",
        "        for feature in selected_features:\n",
        "            selected_features_temp = [f for f in selected_features if f != feature]\n",
        "            X_selected = X[:, selected_features_temp]\n",
        "            X_train, X_test, y_train, y_test = train_test_split(X_selected, y, test_size=0.3, random_state=42)\n",
        "            model.fit(X_train, y_train)\n",
        "            y_pred = model.predict(X_test)\n",
        "            acc = accuracy_score(y_test, y_pred)\n",
        "\n",
        "            # Track the worst feature (the one whose removal improves accuracy)\n",
        "            if acc > best_acc:\n",
        "                best_acc = acc\n",
        "                worst_feature = feature\n",
        "\n",
        "        # If removing a feature improves accuracy, remove it\n",
        "        if worst_feature is not None:\n",
        "            selected_features.remove(worst_feature)\n",
        "\n",
        "    return selected_features\n",
        "\n",
        "# Perform Backward Elimination\n",
        "selected_features = backward_elimination(X, y, model)\n",
        "print(\"Selected features:\", selected_features)\n",
        "\n",
        "# Evaluate the model with selected features\n",
        "X_selected = X[:, selected_features]\n",
        "X_train, X_test, y_train, y_test = train_test_split(X_selected, y, test_size=0.3, random_state=42)\n",
        "model.fit(X_train, y_train)\n",
        "print(\"Model accuracy with selected features:\", model.score(X_test, y_test))\n"
      ],
      "metadata": {
        "colab": {
          "base_uri": "https://localhost:8080/"
        },
        "id": "3eGIdrDqr0q2",
        "outputId": "01e70380-aa5e-4b15-e2d8-1f16f30b51a3"
      },
      "execution_count": 2,
      "outputs": [
        {
          "output_type": "stream",
          "name": "stdout",
          "text": [
            "Selected features: [3]\n",
            "Model accuracy with selected features: 1.0\n"
          ]
        }
      ]
    },
    {
      "cell_type": "markdown",
      "source": [
        "RFE"
      ],
      "metadata": {
        "id": "yibo_sVPsFv7"
      }
    },
    {
      "cell_type": "code",
      "source": [
        "from sklearn.model_selection import train_test_split\n",
        "from sklearn.linear_model import LogisticRegression\n",
        "from sklearn.feature_selection import RFE\n",
        "from sklearn.metrics import accuracy_score\n",
        "\n",
        "# Initialize the Logistic Regression model (since it has coef_ for feature importance)\n",
        "model = LogisticRegression(max_iter=1000)\n",
        "\n",
        "def rfe_feature_selection(X, y, model):\n",
        "    # Perform RFE (Recursive Feature Elimination) for feature selection\n",
        "    rfe = RFE(estimator=model, n_features_to_select=1, step=1)\n",
        "    rfe = rfe.fit(X, y)\n",
        "\n",
        "    # Get the selected features (those with ranking 1)\n",
        "    selected_features = [i for i in range(X.shape[1]) if rfe.support_[i]]\n",
        "\n",
        "    return selected_features\n",
        "\n",
        "# Perform RFE for feature selection\n",
        "selected_features = rfe_feature_selection(X, y, model)\n",
        "print(\"Selected features:\", selected_features)\n",
        "\n",
        "# Evaluate the model with selected features\n",
        "X_selected = X[:, selected_features]\n",
        "X_train, X_test, y_train, y_test = train_test_split(X_selected, y, test_size=0.3, random_state=42)\n",
        "model.fit(X_train, y_train)\n",
        "print(\"Model accuracy with selected features:\", model.score(X_test, y_test))\n"
      ],
      "metadata": {
        "colab": {
          "base_uri": "https://localhost:8080/"
        },
        "id": "o2vJae3Tr5Y8",
        "outputId": "bee119ee-a9f5-4a37-f9a5-f0f4b63b812b"
      },
      "execution_count": 3,
      "outputs": [
        {
          "output_type": "stream",
          "name": "stdout",
          "text": [
            "Selected features: [2]\n",
            "Model accuracy with selected features: 1.0\n"
          ]
        }
      ]
    },
    {
      "cell_type": "markdown",
      "source": [
        "RFE CV"
      ],
      "metadata": {
        "id": "29bPPVVbsJ0O"
      }
    },
    {
      "cell_type": "code",
      "source": [
        "from sklearn.model_selection import train_test_split\n",
        "from sklearn.linear_model import LogisticRegression\n",
        "from sklearn.feature_selection import RFECV\n",
        "from sklearn.metrics import accuracy_score\n",
        "\n",
        "# Initialize the Logistic Regression model (since it has coef_ for feature importance)\n",
        "model = LogisticRegression(max_iter=1000)\n",
        "\n",
        "def rfecv_feature_selection(X, y, model):\n",
        "    # Perform RFE with Cross-Validation (RFE-CV) for feature selection\n",
        "    rfecv = RFECV(estimator=model, step=1, cv=5)\n",
        "    rfecv.fit(X, y)\n",
        "\n",
        "    # Get the selected features (those with ranking 1)\n",
        "    selected_features = [i for i in range(X.shape[1]) if rfecv.support_[i]]\n",
        "\n",
        "    return selected_features, rfecv\n",
        "\n",
        "# Perform RFE-CV for feature selection\n",
        "selected_features, rfecv = rfecv_feature_selection(X, y, model)\n",
        "print(\"Selected features:\", selected_features)\n",
        "print(\"Optimal number of features:\", rfecv.n_features_)\n",
        "\n",
        "# Evaluate the model with selected features\n",
        "X_selected = X[:, selected_features]\n",
        "X_train, X_test, y_train, y_test = train_test_split(X_selected, y, test_size=0.3, random_state=42)\n",
        "model.fit(X_train, y_train)\n",
        "print(\"Model accuracy with selected features:\", model.score(X_test, y_test))\n",
        "\n"
      ],
      "metadata": {
        "colab": {
          "base_uri": "https://localhost:8080/"
        },
        "id": "MGFxnHw4sD8h",
        "outputId": "ae193dd7-e15b-4d67-f5d7-b22f8f94af48"
      },
      "execution_count": 4,
      "outputs": [
        {
          "output_type": "stream",
          "name": "stdout",
          "text": [
            "Selected features: [0, 1, 2, 3]\n",
            "Optimal number of features: 4\n",
            "Model accuracy with selected features: 1.0\n"
          ]
        }
      ]
    }
  ]
}