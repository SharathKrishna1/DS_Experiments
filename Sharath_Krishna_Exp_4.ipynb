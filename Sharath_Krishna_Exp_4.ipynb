{
  "nbformat": 4,
  "nbformat_minor": 0,
  "metadata": {
    "colab": {
      "provenance": []
    },
    "kernelspec": {
      "name": "python3",
      "display_name": "Python 3"
    },
    "language_info": {
      "name": "python"
    }
  },
  "cells": [
    {
      "cell_type": "code",
      "execution_count": 1,
      "metadata": {
        "id": "oALYIbjtTrTw"
      },
      "outputs": [],
      "source": [
        "import pandas as pd\n",
        "import numpy as np"
      ]
    },
    {
      "cell_type": "code",
      "source": [
        "from sklearn.model_selection import train_test_split"
      ],
      "metadata": {
        "id": "VjZKyCFATsMy"
      },
      "execution_count": 2,
      "outputs": []
    },
    {
      "cell_type": "code",
      "source": [
        "from sklearn.datasets import load_iris\n",
        "iris = load_iris()\n",
        "df = pd.DataFrame(data=iris.data, columns=iris.feature_names)\n",
        "df['target'] = iris.target\n",
        "print(df.head())"
      ],
      "metadata": {
        "colab": {
          "base_uri": "https://localhost:8080/"
        },
        "id": "4N_6IHj7UHLn",
        "outputId": "236880e2-2479-4b2a-8b55-84993d4abd04"
      },
      "execution_count": 7,
      "outputs": [
        {
          "output_type": "stream",
          "name": "stdout",
          "text": [
            "   sepal length (cm)  sepal width (cm)  petal length (cm)  petal width (cm)  \\\n",
            "0                5.1               3.5                1.4               0.2   \n",
            "1                4.9               3.0                1.4               0.2   \n",
            "2                4.7               3.2                1.3               0.2   \n",
            "3                4.6               3.1                1.5               0.2   \n",
            "4                5.0               3.6                1.4               0.2   \n",
            "\n",
            "   target  \n",
            "0       0  \n",
            "1       0  \n",
            "2       0  \n",
            "3       0  \n",
            "4       0  \n"
          ]
        }
      ]
    },
    {
      "cell_type": "code",
      "source": [
        "from sklearn.model_selection import train_test_split\n",
        "X = df.drop('target', axis=1)\n",
        "y = df['target']\n",
        "X_train, X_test, y_train, y_test = train_test_split(X, y, test_size=0.3, random_state=42)\n",
        "print(f\"Training set size: {X_train.shape}\")\n",
        "print(f\"Test set size: {X_test.shape}\")"
      ],
      "metadata": {
        "colab": {
          "base_uri": "https://localhost:8080/"
        },
        "id": "WwkX22qcUJFC",
        "outputId": "5b926c1e-6a75-48ee-b575-f06a68b051cb"
      },
      "execution_count": 8,
      "outputs": [
        {
          "output_type": "stream",
          "name": "stdout",
          "text": [
            "Training set size: (105, 4)\n",
            "Test set size: (45, 4)\n"
          ]
        }
      ]
    },
    {
      "cell_type": "code",
      "source": [
        "from sklearn.preprocessing import MinMaxScaler\n",
        "scaler = MinMaxScaler()\n",
        "X_train_normalized = scaler.fit_transform(X_train)\n",
        "X_test_normalized = scaler.transform(X_test)\n",
        "df_train_normalized = pd.DataFrame(X_train_normalized, columns=X.columns)\n",
        "df_train_normalized['target'] = y_train.reset_index(drop=True)\n",
        "df_test_normalized = pd.DataFrame(X_test_normalized, columns=X.columns)\n",
        "df_test_normalized['target'] = y_test.reset_index(drop=True)\n",
        "print(df_train_normalized.head())\n",
        "print(df_test_normalized.head())"
      ],
      "metadata": {
        "colab": {
          "base_uri": "https://localhost:8080/"
        },
        "id": "uWGV6Sd0ULYh",
        "outputId": "3b7f18a6-d7e2-42d1-fb20-0f90794944ad"
      },
      "execution_count": 9,
      "outputs": [
        {
          "output_type": "stream",
          "name": "stdout",
          "text": [
            "   sepal length (cm)  sepal width (cm)  petal length (cm)  petal width (cm)  \\\n",
            "0           0.352941          0.181818           0.464286          0.375000   \n",
            "1           0.588235          0.363636           0.714286          0.583333   \n",
            "2           0.617647          0.500000           0.785714          0.708333   \n",
            "3           0.676471          0.454545           0.589286          0.541667   \n",
            "4           0.852941          0.727273           0.892857          1.000000   \n",
            "\n",
            "   target  \n",
            "0       1  \n",
            "1       2  \n",
            "2       2  \n",
            "3       1  \n",
            "4       2  \n",
            "   sepal length (cm)  sepal width (cm)  petal length (cm)  petal width (cm)  \\\n",
            "0           0.529412          0.363636           0.642857          0.458333   \n",
            "1           0.411765          0.818182           0.107143          0.083333   \n",
            "2           1.000000          0.272727           1.035714          0.916667   \n",
            "3           0.500000          0.409091           0.607143          0.583333   \n",
            "4           0.735294          0.363636           0.660714          0.541667   \n",
            "\n",
            "   target  \n",
            "0       1  \n",
            "1       0  \n",
            "2       2  \n",
            "3       1  \n",
            "4       1  \n"
          ]
        }
      ]
    },
    {
      "cell_type": "code",
      "source": [
        "from sklearn.preprocessing import StandardScaler\n",
        "scaler = StandardScaler()\n",
        "X_train_scaled = scaler.fit_transform(X_train)\n",
        "X_test_scaled = scaler.transform(X_test)\n",
        "df_train_scaled = pd.DataFrame(X_train_scaled, columns=X.columns)\n",
        "df_train_scaled['target'] = y_train.reset_index(drop=True)\n",
        "df_test_scaled = pd.DataFrame(X_test_scaled, columns=X.columns)\n",
        "df_test_scaled['target'] = y_test.reset_index(drop=True)\n",
        "print(df_train_scaled.head())\n",
        "print(df_test_scaled.head())"
      ],
      "metadata": {
        "colab": {
          "base_uri": "https://localhost:8080/"
        },
        "id": "DWoWoPCqUTHV",
        "outputId": "23749704-c8dd-445f-eb26-92f01cac6ed4"
      },
      "execution_count": 10,
      "outputs": [
        {
          "output_type": "stream",
          "name": "stdout",
          "text": [
            "   sepal length (cm)  sepal width (cm)  petal length (cm)  petal width (cm)  \\\n",
            "0          -0.413416         -1.462003          -0.099511         -0.323398   \n",
            "1           0.551222         -0.502563           0.717703          0.353032   \n",
            "2           0.671802          0.217016           0.951192          0.758890   \n",
            "3           0.912961         -0.022844           0.309096          0.217746   \n",
            "4           1.636440          1.416315           1.301427          1.705891   \n",
            "\n",
            "   target  \n",
            "0       1  \n",
            "1       2  \n",
            "2       2  \n",
            "3       1  \n",
            "4       2  \n",
            "   sepal length (cm)  sepal width (cm)  petal length (cm)  petal width (cm)  \\\n",
            "0           0.310062         -0.502563           0.484213         -0.052826   \n",
            "1          -0.172257          1.896035          -1.266959         -1.270399   \n",
            "2           2.239339         -0.982283           1.768406          1.435319   \n",
            "3           0.189483         -0.262704           0.367468          0.353032   \n",
            "4           1.154121         -0.502563           0.542585          0.217746   \n",
            "\n",
            "   target  \n",
            "0       1  \n",
            "1       0  \n",
            "2       2  \n",
            "3       1  \n",
            "4       1  \n"
          ]
        }
      ]
    },
    {
      "cell_type": "code",
      "source": [],
      "metadata": {
        "id": "W-yBor0NUWAB"
      },
      "execution_count": null,
      "outputs": []
    }
  ]
}